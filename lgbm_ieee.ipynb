{
 "cells": [
  {
   "cell_type": "code",
   "execution_count": 3,
   "metadata": {
    "_cell_guid": "b1076dfc-b9ad-4769-8c92-a6c4dae69d19",
    "_uuid": "8f2839f25d086af736a60e9eeb907d3b93b6e0e5"
   },
   "outputs": [
    {
     "name": "stderr",
     "output_type": "stream",
     "text": [
      "/tmp/ipykernel_51095/2275341947.py:6: MatplotlibDeprecationWarning: The seaborn styles shipped by Matplotlib are deprecated since 3.6, as they no longer correspond to the styles shipped by seaborn. However, they will remain available as 'seaborn-v0_8-<style>'. Alternatively, directly use the seaborn API instead.\n",
      "  plt.style.use('seaborn-whitegrid')\n"
     ]
    }
   ],
   "source": [
    "import pandas as pd\n",
    "import numpy as np\n",
    "import matplotlib.pyplot as plt\n",
    "# import seaborn as sns\n",
    "import time\n",
    "plt.style.use('seaborn-whitegrid')\n",
    "import warnings\n",
    "warnings.simplefilter(\"ignore\")\n",
    "colors = [x['color'] for x in plt.rcParams['axes.prop_cycle']]\n",
    "\n",
    "from sklearn.model_selection import train_test_split\n",
    "from sklearn import preprocessing\n",
    "from datetime import date\n",
    "import lightgbm as lgb"
   ]
  },
  {
   "cell_type": "code",
   "execution_count": 4,
   "metadata": {
    "_cell_guid": "79c7e3d0-c299-4dcb-8224-4455121ee9b0",
    "_uuid": "d629ff2d2480ee46fbb7e2d37f6b5fab8052498a",
    "collapsed": true
   },
   "outputs": [],
   "source": [
    "def reduce_mem_usage(df):\n",
    "    \"\"\" iterate through all the columns of a dataframe and modify the data type\n",
    "        to reduce memory usage.        \n",
    "    \"\"\"\n",
    "    start_mem = df.memory_usage().sum() / 1024**2\n",
    "    print('Memory usage of dataframe is {:.2f} MB'.format(start_mem))\n",
    "    \n",
    "    for col in df.columns:\n",
    "        col_type = df[col].dtype\n",
    "        \n",
    "        if col_type != object:\n",
    "            c_min = df[col].min()\n",
    "            c_max = df[col].max()\n",
    "            if str(col_type)[:3] == 'int':\n",
    "                if c_min > np.iinfo(np.int8).min and c_max < np.iinfo(np.int8).max:\n",
    "                    df[col] = df[col].astype(np.int8)\n",
    "                elif c_min > np.iinfo(np.int16).min and c_max < np.iinfo(np.int16).max:\n",
    "                    df[col] = df[col].astype(np.int16)\n",
    "                elif c_min > np.iinfo(np.int32).min and c_max < np.iinfo(np.int32).max:\n",
    "                    df[col] = df[col].astype(np.int32)\n",
    "                elif c_min > np.iinfo(np.int64).min and c_max < np.iinfo(np.int64).max:\n",
    "                    df[col] = df[col].astype(np.int64)  \n",
    "            else:\n",
    "                if c_min > np.finfo(np.float16).min and c_max < np.finfo(np.float16).max:\n",
    "                    df[col] = df[col].astype(np.float16)\n",
    "                elif c_min > np.finfo(np.float32).min and c_max < np.finfo(np.float32).max:\n",
    "                    df[col] = df[col].astype(np.float32)\n",
    "                else:\n",
    "                    df[col] = df[col].astype(np.float64)\n",
    "        else:\n",
    "            df[col] = df[col].astype('category')\n",
    "\n",
    "    end_mem = df.memory_usage().sum() / 1024**2\n",
    "    print('Memory usage after optimization is: {:.2f} MB'.format(end_mem))\n",
    "    print('Decreased by {:.1f}%'.format(100 * (start_mem - end_mem) / start_mem))\n",
    "    \n",
    "    return df"
   ]
  },
  {
   "cell_type": "code",
   "execution_count": 5,
   "metadata": {},
   "outputs": [
    {
     "name": "stdout",
     "output_type": "stream",
     "text": [
      "Memory usage of dataframe is 1775.15 MB\n",
      "Memory usage after optimization is: 489.41 MB\n",
      "Decreased by 72.4%\n",
      "Memory usage of dataframe is 45.12 MB\n",
      "Memory usage after optimization is: 10.55 MB\n",
      "Decreased by 76.6%\n",
      "Shape of transaction train data: (590540, 393)\n",
      "Shape of identity train data: (144233, 40)\n",
      "Memory usage of dataframe is 44.39 MB\n",
      "Memory usage after optimization is: 10.39 MB\n",
      "Decreased by 76.6%\n",
      "Memory usage of dataframe is 1519.24 MB\n",
      "Memory usage after optimization is: 427.17 MB\n",
      "Decreased by 71.9%\n",
      "Shape of transaction train data: (506691, 392)\n",
      "Shape of identity train data: (141907, 40)\n"
     ]
    },
    {
     "data": {
      "text/plain": [
       "id_24    99.196159\n",
       "id_25    99.130965\n",
       "id_08    99.127070\n",
       "id_07    99.127070\n",
       "id_21    99.126393\n",
       "id_26    99.125715\n",
       "id_27    99.124699\n",
       "id_23    99.124699\n",
       "id_22    99.124699\n",
       "dist2    93.628374\n",
       "D7       93.409930\n",
       "id_18    92.360721\n",
       "D13      89.509263\n",
       "D14      89.469469\n",
       "D12      89.041047\n",
       "id_04    88.768923\n",
       "id_03    88.768923\n",
       "D6       87.606767\n",
       "dtype: float64"
      ]
     },
     "execution_count": 5,
     "metadata": {},
     "output_type": "execute_result"
    }
   ],
   "source": [
    "df_train_transaction = reduce_mem_usage(pd.read_csv('fraud-dataset-benchmark/tmp/train_transaction.csv', index_col='TransactionID'))\n",
    "df_train_identity = reduce_mem_usage(pd.read_csv('fraud-dataset-benchmark/tmp/train_identity.csv', index_col='TransactionID'))\n",
    "\n",
    "print(f'Shape of transaction train data: {df_train_transaction.shape}')\n",
    "print(f'Shape of identity train data: {df_train_identity.shape}')\n",
    "\n",
    "df_test_identity = reduce_mem_usage(pd.read_csv('fraud-dataset-benchmark/tmp/test_identity.csv', index_col='TransactionID'))\n",
    "df_test_transaction = reduce_mem_usage(pd.read_csv('fraud-dataset-benchmark/tmp/test_transaction.csv', index_col='TransactionID'))\n",
    "\n",
    "\n",
    "# # some columns (id) are wrongly labeled in test_identity. We will correct it\n",
    "id_cols = [col for col in df_test_identity.columns if col[0]+col[1] == 'id']\n",
    "rename_cols = {i:'id_'+str(i[-2]+i[-1]) for i in id_cols}\n",
    "df_test_identity = df_test_identity.rename(columns=rename_cols)\n",
    "\n",
    "\n",
    "print(f'Shape of transaction train data: {df_test_transaction.shape}')\n",
    "print(f'Shape of identity train data: {df_test_identity.shape}')\n",
    "\n",
    "# #combining frames\n",
    "\n",
    "df_train = df_train_transaction.merge(df_train_identity,on=['TransactionID'],how='left')\n",
    "\n",
    "# # some columns (id) are wrongly labeled in test_identity. We will correct it\n",
    "id_cols = [col for col in df_test_identity.columns if col[0]+col[1] == 'id']\n",
    "rename_cols = {i:'id_'+str(i[-2]+i[-1]) for i in id_cols}\n",
    "df_test_identity = df_test_identity.rename(columns=rename_cols)\n",
    "df_test = df_test_transaction.merge(df_test_identity,on=['TransactionID'],how='left')\n",
    "\n",
    "# Assuming df_train is your DataFrame\n",
    "missing_percentage = (df_train.isnull().sum() / len(df_train)) * 100\n",
    "missing_percentage = missing_percentage.sort_values(ascending=False)\n",
    "\n",
    "# Display missing percentage in descending order\n",
    "missing_percentage.head(18)"
   ]
  },
  {
   "cell_type": "code",
   "execution_count": 9,
   "metadata": {},
   "outputs": [],
   "source": [
    "# set the categorical columns to type 'category'\n",
    "\n",
    "cat_cols = ['ProductCD', 'card1', 'card2', 'card3', 'card4', 'card5', 'card6', 'addr1', 'addr2', 'P_emaildomain', 'R_emaildomain', 'M1', 'M2', 'M3', 'M4', 'M5', 'M6', 'M7', 'M8', 'M9' ,\n",
    "            'id_12', 'id_13', 'id_14', 'id_15', 'id_16', 'id_17', 'id_18', 'id_19', 'id_20', 'id_21', 'id_22', 'id_23', 'id_24', 'id_25', 'id_26', 'id_27', 'id_28', 'id_29', 'id_30', 'id_31', 'id_32', 'id_33', 'id_34', 'id_35', 'id_36', 'id_37', 'id_38', 'DeviceType', 'DeviceInfo']\n",
    "# for cat in X_train.columns().tolist() - cat_cols:\n",
    "\n",
    "    # X_train[cat] = X_train[cat].fillna(-999)\n",
    "    # X_test = X_test.fillna(-999)"
   ]
  },
  {
   "cell_type": "code",
   "execution_count": 10,
   "metadata": {},
   "outputs": [
    {
     "ename": "NameError",
     "evalue": "name 'df_train' is not defined",
     "output_type": "error",
     "traceback": [
      "\u001b[0;31m---------------------------------------------------------------------------\u001b[0m",
      "\u001b[0;31mNameError\u001b[0m                                 Traceback (most recent call last)",
      "\u001b[1;32m/home/amin/Desktop/desktop/Verafin/FDB_LLM/lgbm_ieee.ipynb Cell 5\u001b[0m line \u001b[0;36m1\n\u001b[0;32m----> <a href='vscode-notebook-cell:/home/amin/Desktop/desktop/Verafin/FDB_LLM/lgbm_ieee.ipynb#W3sZmlsZQ%3D%3D?line=0'>1</a>\u001b[0m y_train \u001b[39m=\u001b[39m df_train[\u001b[39m'\u001b[39m\u001b[39misFraud\u001b[39m\u001b[39m'\u001b[39m]\u001b[39m.\u001b[39mcopy()\n",
      "\u001b[0;31mNameError\u001b[0m: name 'df_train' is not defined"
     ]
    }
   ],
   "source": [
    "y_train = df_train['isFraud'].copy()\n"
   ]
  },
  {
   "cell_type": "code",
   "execution_count": 11,
   "metadata": {},
   "outputs": [
    {
     "ename": "NameError",
     "evalue": "name 'df_train' is not defined",
     "output_type": "error",
     "traceback": [
      "\u001b[0;31m---------------------------------------------------------------------------\u001b[0m",
      "\u001b[0;31mNameError\u001b[0m                                 Traceback (most recent call last)",
      "\u001b[1;32m/home/amin/Desktop/desktop/Verafin/FDB_LLM/lgbm_ieee.ipynb Cell 6\u001b[0m line \u001b[0;36m2\n\u001b[1;32m      <a href='vscode-notebook-cell:/home/amin/Desktop/desktop/Verafin/FDB_LLM/lgbm_ieee.ipynb#X54sZmlsZQ%3D%3D?line=0'>1</a>\u001b[0m \u001b[39m# Drop target, fill in NaNs\u001b[39;00m\n\u001b[0;32m----> <a href='vscode-notebook-cell:/home/amin/Desktop/desktop/Verafin/FDB_LLM/lgbm_ieee.ipynb#X54sZmlsZQ%3D%3D?line=1'>2</a>\u001b[0m X_train \u001b[39m=\u001b[39m df_train\u001b[39m.\u001b[39mdrop(\u001b[39m'\u001b[39m\u001b[39misFraud\u001b[39m\u001b[39m'\u001b[39m, axis\u001b[39m=\u001b[39m\u001b[39m1\u001b[39m)\n\u001b[1;32m      <a href='vscode-notebook-cell:/home/amin/Desktop/desktop/Verafin/FDB_LLM/lgbm_ieee.ipynb#X54sZmlsZQ%3D%3D?line=2'>3</a>\u001b[0m X_test \u001b[39m=\u001b[39m df_test\u001b[39m.\u001b[39mcopy()\n\u001b[1;32m      <a href='vscode-notebook-cell:/home/amin/Desktop/desktop/Verafin/FDB_LLM/lgbm_ieee.ipynb#X54sZmlsZQ%3D%3D?line=4'>5</a>\u001b[0m \u001b[39mdel\u001b[39;00m df_train, df_test\n",
      "\u001b[0;31mNameError\u001b[0m: name 'df_train' is not defined"
     ]
    }
   ],
   "source": [
    "\n",
    "# Drop target, fill in NaNs\n",
    "X_train = df_train.drop('isFraud', axis=1)\n",
    "X_test = df_test.copy()\n",
    "\n",
    "del df_train, df_test"
   ]
  },
  {
   "cell_type": "code",
   "execution_count": 9,
   "metadata": {},
   "outputs": [],
   "source": [
    "# Check if categorical columns are categorical\n",
    "for col in cat_cols:\n",
    "    if col not in X_train.columns or not pd.api.types.is_categorical_dtype(X_train[col]):\n",
    "        X_train[col] = X_train[col].astype('category')\n",
    "        X_test[col] = X_test[col].astype('category')\n",
    "\n",
    "# Set the categories of categorical columns\n",
    "for col in cat_cols:\n",
    "    X_train[col] = X_train[col].cat.set_categories([-999] + X_train[col].cat.categories.tolist())\n",
    "    X_test[col] = X_test[col].cat.set_categories([-999] + X_test[col].cat.categories.tolist())\n",
    "\n",
    "# Fill in NaN values in categorical columns\n",
    "X_train[cat_cols] = X_train[cat_cols].fillna(-999)\n",
    "X_test[cat_cols] = X_test[cat_cols].fillna(-999)\n"
   ]
  },
  {
   "cell_type": "markdown",
   "metadata": {},
   "source": [
    "lets forget the fillna for a second because it says set cateogrical first error \n"
   ]
  },
  {
   "cell_type": "code",
   "execution_count": 26,
   "metadata": {},
   "outputs": [],
   "source": [
    "# set the categorical columns to type 'category'\n",
    "\n",
    "# cat_cols = ['ProductCD', 'card1', 'card2', 'card3', 'card4', 'card5', 'card6', 'addr1', 'addr2', 'P_emaildomain', 'R_emaildomain', 'M1', 'M2', 'M3', 'M4', 'M5', 'M6', 'M7', 'M8', 'M9' ,\n",
    "#             'id_12', 'id_13', 'id_14', 'id_15', 'id_16', 'id_17', 'id_18', 'id_19', 'id_20', 'id_21', 'id_22', 'id_23', 'id_24', 'id_25', 'id_26', 'id_27', 'id_28', 'id_29', 'id_30', 'id_31', 'id_32', 'id_33', 'id_34', 'id_35', 'id_36', 'id_37', 'id_38', 'DeviceType', 'DeviceInfo']\n",
    "# for cat in X_train.columns().tolist() - cat_cols:\n",
    "\n",
    "    # X_train[cat] = X_train[cat].fillna(-999)\n",
    "    # X_test = X_test.fillna(-999)"
   ]
  },
  {
   "cell_type": "markdown",
   "metadata": {},
   "source": [
    "## One Hot"
   ]
  },
  {
   "cell_type": "code",
   "execution_count": 15,
   "metadata": {},
   "outputs": [],
   "source": [
    "def one_hot_encoder_one(data,feature,keep_first=True):\n",
    "\n",
    "    one_hot_cols = pd.get_dummies(data[feature])\n",
    "    \n",
    "    for col in one_hot_cols.columns:\n",
    "        one_hot_cols.rename({col:f'{feature}_'+col},axis=1,inplace=True)\n",
    "    \n",
    "    new_data = pd.concat([data,one_hot_cols],axis=1)\n",
    "    new_data.drop(feature,axis=1,inplace=True)\n",
    "    \n",
    "    if keep_first == False:\n",
    "        new_data=new_data.iloc[:,1:]\n",
    "    \n",
    "    return new_data"
   ]
  },
  {
   "cell_type": "code",
   "execution_count": 16,
   "metadata": {},
   "outputs": [],
   "source": [
    "X_one_hot_train=X_train.copy()\n",
    "X_one_hot_test=X_test.copy()\n",
    "for col in X_one_hot_train.select_dtypes(include='O').columns:\n",
    "    X_one_hot_train=one_hot_encoder_one(X_one_hot_train,col)\n",
    "\n",
    "for col in X_one_hot_test.select_dtypes(include='O').columns:\n",
    "    X_one_hot_test=one_hot_encoder_one(X_one_hot_test,col)"
   ]
  },
  {
   "cell_type": "markdown",
   "metadata": {},
   "source": [
    "## Label Encoding"
   ]
  },
  {
   "cell_type": "code",
   "execution_count": 10,
   "metadata": {},
   "outputs": [],
   "source": [
    "for f in X_train.columns:\n",
    "    if X_train[f].dtype=='object' or X_test[f].dtype=='object':\n",
    "        lbl = preprocessing.LabelEncoder()\n",
    "        lbl.fit(list(X_train[f].values) + list(X_test[f].values))\n",
    "        X_train[f] = lbl.transform(list(X_train[f].values))\n",
    "        X_test[f] = lbl.transform(list(X_test[f].values))"
   ]
  },
  {
   "cell_type": "markdown",
   "metadata": {},
   "source": [
    "## Target encoding\n"
   ]
  },
  {
   "cell_type": "code",
   "execution_count": null,
   "metadata": {},
   "outputs": [],
   "source": [
    "from category_encoders.target_encoder import TargetEncoder\n",
    "\n",
    "te_df=df.copy()\n",
    "for col in te_df.select_dtypes(include='O').columns:\n",
    "    te=TargetEncoder()\n",
    "    te_df[col]=te.fit_transform(te_df[col],te_df.price)"
   ]
  },
  {
   "cell_type": "markdown",
   "metadata": {},
   "source": [
    "## M-Estimate"
   ]
  },
  {
   "cell_type": "code",
   "execution_count": null,
   "metadata": {},
   "outputs": [],
   "source": [
    "from category_encoders import MEstimateEncoder\n",
    "feature_list = list(train.columns) # you can custumize later.\n",
    "MEE_encoder = MEstimateEncoder()\n",
    "train_mee = MEE_encoder.fit_transform(train[feature_list], target)\n",
    "test_mee = MEE_encoder.transform(test[feature_list])"
   ]
  },
  {
   "cell_type": "markdown",
   "metadata": {},
   "source": [
    "# Train Test split"
   ]
  },
  {
   "cell_type": "code",
   "execution_count": 19,
   "metadata": {},
   "outputs": [
    {
     "ename": "ValueError",
     "evalue": "Found input variables with inconsistent numbers of samples: [590540, 472432]",
     "output_type": "error",
     "traceback": [
      "\u001b[0;31m---------------------------------------------------------------------------\u001b[0m",
      "\u001b[0;31mValueError\u001b[0m                                Traceback (most recent call last)",
      "\u001b[1;32m/home/amin/Desktop/desktop/Verafin/FDB_LLM/lgbm_ieee.ipynb Cell 19\u001b[0m line \u001b[0;36m1\n\u001b[0;32m----> <a href='vscode-notebook-cell:/home/amin/Desktop/desktop/Verafin/FDB_LLM/lgbm_ieee.ipynb#X24sZmlsZQ%3D%3D?line=0'>1</a>\u001b[0m x_train, x_val, y_train, y_val \u001b[39m=\u001b[39m train_test_split(X_one_hot_train[:], y_train[:], test_size\u001b[39m=\u001b[39;49m\u001b[39m0.2\u001b[39;49m, random_state\u001b[39m=\u001b[39;49m\u001b[39m18\u001b[39;49m)\n\u001b[1;32m      <a href='vscode-notebook-cell:/home/amin/Desktop/desktop/Verafin/FDB_LLM/lgbm_ieee.ipynb#X24sZmlsZQ%3D%3D?line=1'>2</a>\u001b[0m lgb_train \u001b[39m=\u001b[39m lgb\u001b[39m.\u001b[39mDataset(data\u001b[39m=\u001b[39mx_train, label\u001b[39m=\u001b[39my_train)\n\u001b[1;32m      <a href='vscode-notebook-cell:/home/amin/Desktop/desktop/Verafin/FDB_LLM/lgbm_ieee.ipynb#X24sZmlsZQ%3D%3D?line=2'>3</a>\u001b[0m lgb_eval \u001b[39m=\u001b[39m lgb\u001b[39m.\u001b[39mDataset(data\u001b[39m=\u001b[39mx_val, label\u001b[39m=\u001b[39my_val)\n",
      "File \u001b[0;32m~/miniconda3/envs/verafin/lib/python3.8/site-packages/sklearn/utils/_param_validation.py:214\u001b[0m, in \u001b[0;36mvalidate_params.<locals>.decorator.<locals>.wrapper\u001b[0;34m(*args, **kwargs)\u001b[0m\n\u001b[1;32m    208\u001b[0m \u001b[39mtry\u001b[39;00m:\n\u001b[1;32m    209\u001b[0m     \u001b[39mwith\u001b[39;00m config_context(\n\u001b[1;32m    210\u001b[0m         skip_parameter_validation\u001b[39m=\u001b[39m(\n\u001b[1;32m    211\u001b[0m             prefer_skip_nested_validation \u001b[39mor\u001b[39;00m global_skip_validation\n\u001b[1;32m    212\u001b[0m         )\n\u001b[1;32m    213\u001b[0m     ):\n\u001b[0;32m--> 214\u001b[0m         \u001b[39mreturn\u001b[39;00m func(\u001b[39m*\u001b[39;49margs, \u001b[39m*\u001b[39;49m\u001b[39m*\u001b[39;49mkwargs)\n\u001b[1;32m    215\u001b[0m \u001b[39mexcept\u001b[39;00m InvalidParameterError \u001b[39mas\u001b[39;00m e:\n\u001b[1;32m    216\u001b[0m     \u001b[39m# When the function is just a wrapper around an estimator, we allow\u001b[39;00m\n\u001b[1;32m    217\u001b[0m     \u001b[39m# the function to delegate validation to the estimator, but we replace\u001b[39;00m\n\u001b[1;32m    218\u001b[0m     \u001b[39m# the name of the estimator by the name of the function in the error\u001b[39;00m\n\u001b[1;32m    219\u001b[0m     \u001b[39m# message to avoid confusion.\u001b[39;00m\n\u001b[1;32m    220\u001b[0m     msg \u001b[39m=\u001b[39m re\u001b[39m.\u001b[39msub(\n\u001b[1;32m    221\u001b[0m         \u001b[39mr\u001b[39m\u001b[39m\"\u001b[39m\u001b[39mparameter of \u001b[39m\u001b[39m\\\u001b[39m\u001b[39mw+ must be\u001b[39m\u001b[39m\"\u001b[39m,\n\u001b[1;32m    222\u001b[0m         \u001b[39mf\u001b[39m\u001b[39m\"\u001b[39m\u001b[39mparameter of \u001b[39m\u001b[39m{\u001b[39;00mfunc\u001b[39m.\u001b[39m\u001b[39m__qualname__\u001b[39m\u001b[39m}\u001b[39;00m\u001b[39m must be\u001b[39m\u001b[39m\"\u001b[39m,\n\u001b[1;32m    223\u001b[0m         \u001b[39mstr\u001b[39m(e),\n\u001b[1;32m    224\u001b[0m     )\n",
      "File \u001b[0;32m~/miniconda3/envs/verafin/lib/python3.8/site-packages/sklearn/model_selection/_split.py:2646\u001b[0m, in \u001b[0;36mtrain_test_split\u001b[0;34m(test_size, train_size, random_state, shuffle, stratify, *arrays)\u001b[0m\n\u001b[1;32m   2643\u001b[0m \u001b[39mif\u001b[39;00m n_arrays \u001b[39m==\u001b[39m \u001b[39m0\u001b[39m:\n\u001b[1;32m   2644\u001b[0m     \u001b[39mraise\u001b[39;00m \u001b[39mValueError\u001b[39;00m(\u001b[39m\"\u001b[39m\u001b[39mAt least one array required as input\u001b[39m\u001b[39m\"\u001b[39m)\n\u001b[0;32m-> 2646\u001b[0m arrays \u001b[39m=\u001b[39m indexable(\u001b[39m*\u001b[39;49marrays)\n\u001b[1;32m   2648\u001b[0m n_samples \u001b[39m=\u001b[39m _num_samples(arrays[\u001b[39m0\u001b[39m])\n\u001b[1;32m   2649\u001b[0m n_train, n_test \u001b[39m=\u001b[39m _validate_shuffle_split(\n\u001b[1;32m   2650\u001b[0m     n_samples, test_size, train_size, default_test_size\u001b[39m=\u001b[39m\u001b[39m0.25\u001b[39m\n\u001b[1;32m   2651\u001b[0m )\n",
      "File \u001b[0;32m~/miniconda3/envs/verafin/lib/python3.8/site-packages/sklearn/utils/validation.py:453\u001b[0m, in \u001b[0;36mindexable\u001b[0;34m(*iterables)\u001b[0m\n\u001b[1;32m    434\u001b[0m \u001b[39m\u001b[39m\u001b[39m\"\"\"Make arrays indexable for cross-validation.\u001b[39;00m\n\u001b[1;32m    435\u001b[0m \n\u001b[1;32m    436\u001b[0m \u001b[39mChecks consistent length, passes through None, and ensures that everything\u001b[39;00m\n\u001b[0;32m   (...)\u001b[0m\n\u001b[1;32m    449\u001b[0m \u001b[39m    sparse matrix, or dataframe) or `None`.\u001b[39;00m\n\u001b[1;32m    450\u001b[0m \u001b[39m\"\"\"\u001b[39;00m\n\u001b[1;32m    452\u001b[0m result \u001b[39m=\u001b[39m [_make_indexable(X) \u001b[39mfor\u001b[39;00m X \u001b[39min\u001b[39;00m iterables]\n\u001b[0;32m--> 453\u001b[0m check_consistent_length(\u001b[39m*\u001b[39;49mresult)\n\u001b[1;32m    454\u001b[0m \u001b[39mreturn\u001b[39;00m result\n",
      "File \u001b[0;32m~/miniconda3/envs/verafin/lib/python3.8/site-packages/sklearn/utils/validation.py:407\u001b[0m, in \u001b[0;36mcheck_consistent_length\u001b[0;34m(*arrays)\u001b[0m\n\u001b[1;32m    405\u001b[0m uniques \u001b[39m=\u001b[39m np\u001b[39m.\u001b[39munique(lengths)\n\u001b[1;32m    406\u001b[0m \u001b[39mif\u001b[39;00m \u001b[39mlen\u001b[39m(uniques) \u001b[39m>\u001b[39m \u001b[39m1\u001b[39m:\n\u001b[0;32m--> 407\u001b[0m     \u001b[39mraise\u001b[39;00m \u001b[39mValueError\u001b[39;00m(\n\u001b[1;32m    408\u001b[0m         \u001b[39m\"\u001b[39m\u001b[39mFound input variables with inconsistent numbers of samples: \u001b[39m\u001b[39m%r\u001b[39;00m\u001b[39m\"\u001b[39m\n\u001b[1;32m    409\u001b[0m         \u001b[39m%\u001b[39m [\u001b[39mint\u001b[39m(l) \u001b[39mfor\u001b[39;00m l \u001b[39min\u001b[39;00m lengths]\n\u001b[1;32m    410\u001b[0m     )\n",
      "\u001b[0;31mValueError\u001b[0m: Found input variables with inconsistent numbers of samples: [590540, 472432]"
     ]
    }
   ],
   "source": [
    "x_train, x_val, y_train, y_val = train_test_split(X_one_hot_train[:], y_train[:], test_size=0.2, random_state=18)\n",
    "lgb_train = lgb.Dataset(data=x_train, label=y_train)\n",
    "lgb_eval = lgb.Dataset(data=x_val, label=y_val)"
   ]
  },
  {
   "cell_type": "code",
   "execution_count": 12,
   "metadata": {},
   "outputs": [
    {
     "name": "stdout",
     "output_type": "stream",
     "text": [
      "[LightGBM] [Warning] Auto-choosing row-wise multi-threading, the overhead of testing was 2.367813 seconds.\n",
      "You can set `force_row_wise=true` to remove the overhead.\n",
      "And if memory is not enough, you can set `force_col_wise=true`.\n",
      "Training until validation scores don't improve for 60 rounds\n",
      "[60]\tvalid_0's auc: 0.958862\n",
      "[120]\tvalid_0's auc: 0.969435\n",
      "[180]\tvalid_0's auc: 0.973883\n",
      "[240]\tvalid_0's auc: 0.976038\n",
      "[LightGBM] [Warning] No further splits with positive gain, best gain: -inf\n",
      "[300]\tvalid_0's auc: 0.977291\n",
      "[360]\tvalid_0's auc: 0.977731\n",
      "[LightGBM] [Warning] No further splits with positive gain, best gain: -inf\n",
      "[420]\tvalid_0's auc: 0.978121\n",
      "[LightGBM] [Warning] No further splits with positive gain, best gain: -inf\n",
      "Did not meet early stopping. Best iteration is:\n",
      "[450]\tvalid_0's auc: 0.978411\n"
     ]
    }
   ],
   "source": [
    "params = {'task': 'train', 'boosting_type': 'gbdt', 'objective': 'binary', 'metric': 'auc',\n",
    "          'learning_rate': 0.05, 'num_leaves': 200, 'num_iteration': 450, 'verbose': 0 ,\n",
    "          'colsample_bytree':.8, 'subsample':.9, 'max_depth':18, 'reg_alpha':.1, 'reg_lambda':.1,\n",
    "          'min_split_gain':.01, 'min_child_weight':1}\n",
    "model = lgb.train(params, lgb_train, valid_sets=lgb_eval, early_stopping_rounds=60, verbose_eval=60)"
   ]
  },
  {
   "cell_type": "code",
   "execution_count": null,
   "metadata": {},
   "outputs": [],
   "source": [
    "from sklearn.metrics import roc_curve, auc\n",
    "\n",
    "# Predict on the validation set\n",
    "y_pred = model.predict(x_val)\n",
    "\n",
    "# Calculate AUC\n",
    "fpr, tpr, thresholds = roc_curve(y_val, y_pred)\n",
    "roc_auc = auc(fpr, tpr)\n",
    "\n",
    "# Plot AUC curve\n",
    "plt.figure(figsize=(8, 6))\n",
    "plt.plot(fpr, tpr, label=f'AUC = {roc_auc:.2f}')\n",
    "plt.title('ROC-AUC Curve')\n",
    "plt.xlabel('False Positive Rate')\n",
    "plt.ylabel('True Positive Rate')\n",
    "plt.legend(loc='lower right')\n",
    "plt.show()"
   ]
  },
  {
   "cell_type": "code",
   "execution_count": 20,
   "metadata": {},
   "outputs": [],
   "source": [
    "from sklearn.metrics import roc_curve, auc\n",
    "\n",
    "# Predict on the validation set\n",
    "y_pred = model.predict(x_val)\n",
    "\n",
    "# Calculate AUC\n",
    "fpr_LE, tpr_LE, thresholds = roc_curve(y_val, y_pred)\n",
    "roc_auc_LE = auc(fpr_LE, tpr_LE)\n",
    "\n",
    "import pickle\n",
    "\n",
    "# Create a dictionary to store the data\n",
    "roc_data = {\n",
    "    'fpr': fpr_LE,\n",
    "    'tpr': tpr_LE,\n",
    "    'roc_auc': roc_auc_LE\n",
    "}\n",
    "\n",
    "# Save the data to a file\n",
    "with open('roc_data.pkl', 'wb') as file:\n",
    "    pickle.dump(roc_data, file)\n",
    "\n",
    "\n",
    "# Load the data from the file\n",
    "with open('roc_data.pkl', 'rb') as file:\n",
    "    roc_data = pickle.load(file)\n",
    "\n",
    "# Access the loaded data\n",
    "fpr = roc_data['fpr']\n",
    "tpr = roc_data['tpr']\n",
    "roc_auc = roc_data['roc_auc']\n"
   ]
  },
  {
   "cell_type": "code",
   "execution_count": 21,
   "metadata": {},
   "outputs": [
    {
     "data": {
      "image/png": "[encoded data removed]",
      "text/plain": [
       "<Figure size 800x600 with 1 Axes>"
      ]
     },
     "metadata": {},
     "output_type": "display_data"
    }
   ],
   "source": [
    "# Plot AUC curve\n",
    "plt.figure(figsize=(8, 6))\n",
    "plt.plot(fpr_LE, tpr_LE, label=f'AUC = {roc_auc_LE:.2f}')\n",
    "plt.title('ROC-AUC Curve')\n",
    "plt.xlabel('False Positive Rate')\n",
    "plt.ylabel('True Positive Rate')\n",
    "plt.legend(loc='lower right')\n",
    "plt.show()"
   ]
  },
  {
   "cell_type": "code",
   "execution_count": null,
   "metadata": {},
   "outputs": [],
   "source": []
  }
 ],
 "metadata": {
  "kernelspec": {
   "display_name": "Python 3",
   "language": "python",
   "name": "python3"
  },
  "language_info": {
   "codemirror_mode": {
    "name": "ipython",
    "version": 3
   },
   "file_extension": ".py",
   "mimetype": "text/x-python",
   "name": "python",
   "nbconvert_exporter": "python",
   "pygments_lexer": "ipython3",
   "version": "3.8.0"
  }
 },
 "nbformat": 4,
 "nbformat_minor": 1
}
